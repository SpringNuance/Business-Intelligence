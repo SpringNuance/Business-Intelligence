{
 "cells": [
  {
   "cell_type": "code",
   "execution_count": 16,
   "metadata": {},
   "outputs": [],
   "source": [
    "import arff, numpy as np\n",
    "dataset = arff.load(open('assignment_data.arff', 'rb'))\n",
    "dataset = np.array(dataset)\n",
    "# data = np.array(dataset['data'])\n"
   ]
  },
  {
   "cell_type": "code",
   "execution_count": 13,
   "metadata": {},
   "outputs": [
    {
     "ename": "IndexError",
     "evalue": "only integers, slices (`:`), ellipsis (`...`), numpy.newaxis (`None`) and integer or boolean arrays are valid indices",
     "output_type": "error",
     "traceback": [
      "\u001b[1;31m---------------------------------------------------------------------------\u001b[0m",
      "\u001b[1;31mIndexError\u001b[0m                                Traceback (most recent call last)",
      "Cell \u001b[1;32mIn[13], line 1\u001b[0m\n\u001b[1;32m----> 1\u001b[0m \u001b[38;5;28mprint\u001b[39m(\u001b[43mdataset\u001b[49m\u001b[43m[\u001b[49m\u001b[38;5;124;43m\"\u001b[39;49m\u001b[38;5;124;43mHotel_id\u001b[39;49m\u001b[38;5;124;43m\"\u001b[39;49m\u001b[43m]\u001b[49m)\n",
      "\u001b[1;31mIndexError\u001b[0m: only integers, slices (`:`), ellipsis (`...`), numpy.newaxis (`None`) and integer or boolean arrays are valid indices"
     ]
    }
   ],
   "source": [
    "print(dataset[\"Hotel_id\"])"
   ]
  },
  {
   "cell_type": "code",
   "execution_count": 14,
   "metadata": {},
   "outputs": [
    {
     "ename": "NotImplementedError",
     "evalue": "String attributes not supported yet, sorry",
     "output_type": "error",
     "traceback": [
      "\u001b[1;31m---------------------------------------------------------------------------\u001b[0m",
      "\u001b[1;31mNotImplementedError\u001b[0m                       Traceback (most recent call last)",
      "Cell \u001b[1;32mIn[14], line 3\u001b[0m\n\u001b[0;32m      1\u001b[0m \u001b[38;5;28;01mfrom\u001b[39;00m \u001b[38;5;21;01mscipy\u001b[39;00m\u001b[38;5;21;01m.\u001b[39;00m\u001b[38;5;21;01mio\u001b[39;00m \u001b[38;5;28;01mimport\u001b[39;00m arff\n\u001b[1;32m----> 3\u001b[0m data, meta \u001b[38;5;241m=\u001b[39m \u001b[43marff\u001b[49m\u001b[38;5;241;43m.\u001b[39;49m\u001b[43mloadarff\u001b[49m\u001b[43m(\u001b[49m\u001b[38;5;124;43m'\u001b[39;49m\u001b[38;5;124;43massignment_data.arff\u001b[39;49m\u001b[38;5;124;43m'\u001b[39;49m\u001b[43m)\u001b[49m\n\u001b[0;32m      4\u001b[0m df \u001b[38;5;241m=\u001b[39m pd\u001b[38;5;241m.\u001b[39mDataFrame(data)\n\u001b[0;32m      5\u001b[0m \u001b[38;5;28mprint\u001b[39m(df)\n",
      "File \u001b[1;32mc:\\Users\\springnuance\\AppData\\Local\\Programs\\Python\\Python312\\Lib\\site-packages\\scipy\\io\\arff\\_arffread.py:804\u001b[0m, in \u001b[0;36mloadarff\u001b[1;34m(f)\u001b[0m\n\u001b[0;32m    802\u001b[0m     ofile \u001b[38;5;241m=\u001b[39m \u001b[38;5;28mopen\u001b[39m(f)\n\u001b[0;32m    803\u001b[0m \u001b[38;5;28;01mtry\u001b[39;00m:\n\u001b[1;32m--> 804\u001b[0m     \u001b[38;5;28;01mreturn\u001b[39;00m \u001b[43m_loadarff\u001b[49m\u001b[43m(\u001b[49m\u001b[43mofile\u001b[49m\u001b[43m)\u001b[49m\n\u001b[0;32m    805\u001b[0m \u001b[38;5;28;01mfinally\u001b[39;00m:\n\u001b[0;32m    806\u001b[0m     \u001b[38;5;28;01mif\u001b[39;00m ofile \u001b[38;5;129;01mis\u001b[39;00m \u001b[38;5;129;01mnot\u001b[39;00m f:  \u001b[38;5;66;03m# only close what we opened\u001b[39;00m\n",
      "File \u001b[1;32mc:\\Users\\springnuance\\AppData\\Local\\Programs\\Python\\Python312\\Lib\\site-packages\\scipy\\io\\arff\\_arffread.py:837\u001b[0m, in \u001b[0;36m_loadarff\u001b[1;34m(ofile)\u001b[0m\n\u001b[0;32m    826\u001b[0m \u001b[38;5;66;03m# XXX The following code is not great\u001b[39;00m\n\u001b[0;32m    827\u001b[0m \u001b[38;5;66;03m# Build the type descriptor descr and the list of converters to convert\u001b[39;00m\n\u001b[0;32m    828\u001b[0m \u001b[38;5;66;03m# each attribute to the suitable type (which should match the one in\u001b[39;00m\n\u001b[1;32m   (...)\u001b[0m\n\u001b[0;32m    831\u001b[0m \u001b[38;5;66;03m# This can be used once we want to support integer as integer values and\u001b[39;00m\n\u001b[0;32m    832\u001b[0m \u001b[38;5;66;03m# not as numeric anymore (using masked arrays ?).\u001b[39;00m\n\u001b[0;32m    834\u001b[0m \u001b[38;5;28;01mif\u001b[39;00m hasstr:\n\u001b[0;32m    835\u001b[0m     \u001b[38;5;66;03m# How to support string efficiently ? Ideally, we should know the max\u001b[39;00m\n\u001b[0;32m    836\u001b[0m     \u001b[38;5;66;03m# size of the string before allocating the numpy array.\u001b[39;00m\n\u001b[1;32m--> 837\u001b[0m     \u001b[38;5;28;01mraise\u001b[39;00m \u001b[38;5;167;01mNotImplementedError\u001b[39;00m(\u001b[38;5;124m\"\u001b[39m\u001b[38;5;124mString attributes not supported yet, sorry\u001b[39m\u001b[38;5;124m\"\u001b[39m)\n\u001b[0;32m    839\u001b[0m ni \u001b[38;5;241m=\u001b[39m \u001b[38;5;28mlen\u001b[39m(attr)\n\u001b[0;32m    841\u001b[0m \u001b[38;5;28;01mdef\u001b[39;00m \u001b[38;5;21mgenerator\u001b[39m(row_iter, delim\u001b[38;5;241m=\u001b[39m\u001b[38;5;124m'\u001b[39m\u001b[38;5;124m,\u001b[39m\u001b[38;5;124m'\u001b[39m):\n\u001b[0;32m    842\u001b[0m     \u001b[38;5;66;03m# TODO: this is where we are spending time (~80%). I think things\u001b[39;00m\n\u001b[0;32m    843\u001b[0m     \u001b[38;5;66;03m# could be made more efficiently:\u001b[39;00m\n\u001b[1;32m   (...)\u001b[0m\n\u001b[0;32m    854\u001b[0m     \u001b[38;5;66;03m# Note, I have already tried zipping the converters and\u001b[39;00m\n\u001b[0;32m    855\u001b[0m     \u001b[38;5;66;03m# row elements and got slightly worse performance.\u001b[39;00m\n",
      "\u001b[1;31mNotImplementedError\u001b[0m: String attributes not supported yet, sorry"
     ]
    }
   ],
   "source": [
    "from scipy.io import arff\n",
    "\n",
    "data, meta = arff.loadarff('assignment_data.arff')\n",
    "df = pd.DataFrame(data)\n",
    "print(df)"
   ]
  }
 ],
 "metadata": {
  "kernelspec": {
   "display_name": "Python 3",
   "language": "python",
   "name": "python3"
  },
  "language_info": {
   "codemirror_mode": {
    "name": "ipython",
    "version": 3
   },
   "file_extension": ".py",
   "mimetype": "text/x-python",
   "name": "python",
   "nbconvert_exporter": "python",
   "pygments_lexer": "ipython3",
   "version": "3.12.2"
  }
 },
 "nbformat": 4,
 "nbformat_minor": 2
}
